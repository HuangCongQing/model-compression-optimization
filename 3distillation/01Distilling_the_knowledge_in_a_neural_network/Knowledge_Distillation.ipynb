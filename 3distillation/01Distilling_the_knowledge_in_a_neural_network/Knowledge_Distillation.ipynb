{
 "cells": [
  {
   "cell_type": "markdown",
   "id": "3b3784da",
   "metadata": {},
   "source": [
    "\n",
    "docs: https://www.yuque.com/huangzhongqing/lightweight/lno6i7\n",
    "\n",
    "video timeline: https://www.bilibili.com/video/BV1zP4y1F7g4/?spm_id_from=333.788&vd_source=617461d43c4542e4c5a3ed54434a0e55&t=297.3"
   ]
  },
  {
   "cell_type": "markdown",
   "id": "4877408c",
   "metadata": {},
   "source": [
    "## 导入工具包"
   ]
  },
  {
   "cell_type": "code",
   "execution_count": 31,
   "id": "b5bd7fe9",
   "metadata": {},
   "outputs": [],
   "source": [
    "import torch\n",
    "import numpy as np\n",
    "import pandas as pd\n",
    "from torch import nn\n",
    "import torch.nn.functional as F\n",
    "import torchvision\n",
    "from torchvision import transforms\n",
    "from torch.utils.data import DataLoader\n",
    "from torchsummary import summary # from torchinfo import summary #     from torchsummary import summary\n",
    "from tqdm import tqdm\n",
    "\n",
    "\n",
    "import matplotlib.pyplot as plt"
   ]
  },
  {
   "cell_type": "code",
   "execution_count": 32,
   "id": "b37f6118",
   "metadata": {},
   "outputs": [],
   "source": [
    "#设置随机种子\n",
    "\n",
    "torch.manual_seed(0)\n",
    "\n",
    "device = torch.device(\"cuda\" if torch.cuda.is_available() else \"cpu\")"
   ]
  },
  {
   "cell_type": "code",
   "execution_count": 33,
   "id": "f7a1ec11",
   "metadata": {},
   "outputs": [],
   "source": [
    "# 使用cuDNN加速卷积运算\n",
    "torch.backends.cudnn.benchmark=True"
   ]
  },
  {
   "cell_type": "markdown",
   "id": "4823dd5d",
   "metadata": {},
   "source": [
    "## 载入MNIST数据集"
   ]
  },
  {
   "cell_type": "code",
   "execution_count": 34,
   "id": "025a8edb",
   "metadata": {},
   "outputs": [],
   "source": [
    "# 载入MNIST数据集\n",
    "train_dataset=torchvision.datasets.MNIST(root=\"dataset/\",train=True,transform=transforms.ToTensor(),download=True)\n",
    "test_dataset=torchvision.datasets.MNIST(root=\"dataset/\",train=False,transform=transforms.ToTensor(),download=True)\n",
    "\n",
    "# # 载入训练集\n",
    "# train_dataset = torchvision.datasets.MNIST(\n",
    "#     root=\"dataset/\",\n",
    "#     train=True,\n",
    "#     transform=transforms.ToTensor(),\n",
    "#     download=False # True\n",
    "# )\n",
    "# # 载入测试集\n",
    "# test_dataset = torchvision.datasets.MNIST(\n",
    "#     root=\"dataset/\",\n",
    "#     train=False,\n",
    "#     transform=transforms.ToTensor(),\n",
    "#     download=False # True\n",
    "# )\n",
    "\n",
    "train_loder = DataLoader(dataset=train_dataset,batch_size=32,shuffle=True)\n",
    "test_loder  = DataLoader(dataset=test_dataset, batch_size=32,shuffle=False)"
   ]
  },
  {
   "cell_type": "markdown",
   "id": "820c6433",
   "metadata": {},
   "source": [
    "## 1 教师网络（3层隐含层 每层1200个神经元）"
   ]
  },
  {
   "cell_type": "code",
   "execution_count": 35,
   "id": "ce1fdd7c",
   "metadata": {},
   "outputs": [],
   "source": [
    "# 教师模型\n",
    "class TeacherModel(nn.Module):\n",
    "    def __init__(self,in_channels=1,num_classes=10):\n",
    "        super(TeacherModel, self).__init__()\n",
    "        self.relu = nn.ReLU()\n",
    "        self.fc1 = nn.Linear(784,1200)\n",
    "        self.fc2 = nn.Linear(1200,1200)\n",
    "        self.fc3 = nn.Linear(1200,num_classes)\n",
    "        self.dropout = nn.Dropout(p = 0.5)\n",
    "\n",
    "    def forward(self,x):\n",
    "        x = x.view(-1,784)\n",
    "        x = self.fc1(x)\n",
    "        x = self.dropout(x)\n",
    "        x = self.relu(x)\n",
    "\n",
    "        x = self.fc2(x)\n",
    "        x = self.dropout(x)\n",
    "        x = self.relu(x)\n",
    "\n",
    "        x = self.fc3(x)\n",
    "\n",
    "        return x"
   ]
  },
  {
   "cell_type": "markdown",
   "id": "133e08df",
   "metadata": {},
   "source": [
    "### 从头训练教师模型（0.96） 并保存最新1epochs模型权重：teacher_model = model"
   ]
  },
  {
   "cell_type": "code",
   "execution_count": 36,
   "id": "38851025",
   "metadata": {},
   "outputs": [],
   "source": [
    "model = TeacherModel()\n",
    "model = model.to(device)"
   ]
  },
  {
   "cell_type": "markdown",
   "id": "3dceaf92",
   "metadata": {},
   "source": [
    "### summary信息（9.29MB）"
   ]
  },
  {
   "cell_type": "code",
   "execution_count": 37,
   "id": "56b3cb40",
   "metadata": {},
   "outputs": [
    {
     "name": "stdout",
     "output_type": "stream",
     "text": [
      "----------------------------------------------------------------\n",
      "        Layer (type)               Output Shape         Param #\n",
      "================================================================\n",
      "            Linear-1                 [-1, 1200]         942,000\n",
      "           Dropout-2                 [-1, 1200]               0\n",
      "              ReLU-3                 [-1, 1200]               0\n",
      "            Linear-4                 [-1, 1200]       1,441,200\n",
      "           Dropout-5                 [-1, 1200]               0\n",
      "              ReLU-6                 [-1, 1200]               0\n",
      "            Linear-7                   [-1, 10]          12,010\n",
      "================================================================\n",
      "Total params: 2,395,210\n",
      "Trainable params: 2,395,210\n",
      "Non-trainable params: 0\n",
      "----------------------------------------------------------------\n",
      "Input size (MB): 0.10\n",
      "Forward/backward pass size (MB): 0.06\n",
      "Params size (MB): 9.14\n",
      "Estimated Total Size (MB): 9.29\n",
      "----------------------------------------------------------------\n"
     ]
    }
   ],
   "source": [
    "summary(model, (32,1,28,28)) #     from torchsummary import summary\n",
    "# Estimated Total Size (MB): 9.29"
   ]
  },
  {
   "cell_type": "code",
   "execution_count": 38,
   "id": "ba9791ab",
   "metadata": {},
   "outputs": [
    {
     "name": "stderr",
     "output_type": "stream",
     "text": [
      "100%|██████████| 1875/1875 [00:03<00:00, 519.10it/s]\n"
     ]
    },
    {
     "name": "stdout",
     "output_type": "stream",
     "text": [
      "Epoch:1\t Accuracy:0.943100\n"
     ]
    }
   ],
   "source": [
    "criterion = nn.CrossEntropyLoss() # 设置使用交叉熵损失函数\n",
    "optimizer = torch.optim.Adam(model.parameters(),lr=1e-4) # 使用Adam优化器，学习率为lr=1e-4\n",
    "\n",
    "epochs = 1 # 训练6轮\n",
    "for epoch in range(epochs):\n",
    "    model.train()\n",
    "\n",
    "    for data,targets in tqdm(train_loder):\n",
    "        data = data.to(device)\n",
    "        # print(data.shape) # torch.Size([32, 1, 28, 28])\n",
    "        targets = targets.to(device)\n",
    "        \n",
    "        # 前向预测\n",
    "        preds = model(data)\n",
    "        loss = criterion(preds,targets)\n",
    "        # loss = loss.to(device)\n",
    "\n",
    "        # 反向传播，优化权重\n",
    "        optimizer.zero_grad()\n",
    "        loss.backward()\n",
    "        optimizer.step()\n",
    "\n",
    "    # 测试集上评估性能\n",
    "    model.eval()\n",
    "    num_correct = 0\n",
    "    num_samples = 0\n",
    "\n",
    "    with torch.no_grad():\n",
    "        for x,y in test_loder:\n",
    "            x = x.to(device)\n",
    "            y = y.to(device)\n",
    "            preds = model(x)\n",
    "            predictions = preds.max(1).indices\n",
    "            num_correct += (predictions == y).sum()\n",
    "            num_samples += predictions.size(0)\n",
    "        acc = (num_correct / num_samples).item()\n",
    "    \n",
    "    model.train()\n",
    "    teacher_model = model # >>>>>>>>>>>>>>>>>>>>>>>>>>>>>> 将模型（with参数）保存，用于最后的知识蒸馏  保存最新模型权重：teacher_model = model\n",
    "    print((\"Epoch:{}\\t Accuracy:{:4f}\").format(epoch+1,acc))"
   ]
  },
  {
   "cell_type": "markdown",
   "id": "002fd109",
   "metadata": {},
   "source": [
    "## 2 学生模型（每一层20个神经元）并且从头训练学生模型"
   ]
  },
  {
   "cell_type": "code",
   "execution_count": 39,
   "id": "4c5e5e1e",
   "metadata": {
    "scrolled": false
   },
   "outputs": [],
   "source": [
    "# 学生模型\n",
    "class StudentModel(nn.Module):\n",
    "    def __init__( self,inchannels=1,num_class=10):\n",
    "        super(StudentModel, self).__init__()\n",
    "        self.relu = nn.ReLU()\n",
    "        self.fc1 = nn.Linear(784, 20) # 1200修改为20\n",
    "        self.fc2 = nn.Linear(20, 20)\n",
    "        self.fc3 = nn.Linear(20, num_class)\n",
    "        #self.dropout = nn.Dropout(p = 0.5)\n",
    "\n",
    "    def forward(self,x):\n",
    "        x = x.view(-1, 784)\n",
    "        x = self.fc1(x)\n",
    "        #x = self.dropout(x)\n",
    "        x = self.relu(x)\n",
    "\n",
    "        x = self.fc2(x)\n",
    "        #x = self.dropout(x)\n",
    "        x = self.relu(x)\n",
    "        \n",
    "        x = self.fc3(x)\n",
    "\n",
    "        return x\n"
   ]
  },
  {
   "cell_type": "markdown",
   "id": "bdc39bb6",
   "metadata": {},
   "source": [
    "### 从头训练学生模型（0.88）"
   ]
  },
  {
   "cell_type": "code",
   "execution_count": 40,
   "id": "9e19b59a",
   "metadata": {},
   "outputs": [
    {
     "name": "stderr",
     "output_type": "stream",
     "text": [
      "100%|██████████| 1875/1875 [00:03<00:00, 491.59it/s]\n"
     ]
    },
    {
     "name": "stdout",
     "output_type": "stream",
     "text": [
      "学生模型 Epoch:1\t Accuracy:0.893450\n"
     ]
    },
    {
     "name": "stderr",
     "output_type": "stream",
     "text": [
      "100%|██████████| 1875/1875 [00:03<00:00, 531.07it/s]\n"
     ]
    },
    {
     "name": "stdout",
     "output_type": "stream",
     "text": [
      "学生模型 Epoch:2\t Accuracy:0.891867\n"
     ]
    },
    {
     "name": "stderr",
     "output_type": "stream",
     "text": [
      "100%|██████████| 1875/1875 [00:03<00:00, 615.56it/s]\n"
     ]
    },
    {
     "name": "stdout",
     "output_type": "stream",
     "text": [
      "学生模型 Epoch:3\t Accuracy:0.893925\n"
     ]
    }
   ],
   "source": [
    "model = StudentModel() # 从头先训练一下学生模型\n",
    "model = model.to(device)\n",
    "\n",
    "# 设置交叉损失函数 和 激活函数\n",
    "criterion = nn.CrossEntropyLoss()\n",
    "optimizer = torch.optim.Adam(model.parameters(),lr=1e-4)\n",
    "\n",
    "epochs = 3\n",
    "# 训练集上训练权重\n",
    "for epoch in range(epochs):\n",
    "    model.train()\n",
    "\n",
    "    for data,targets in tqdm(train_loder):\n",
    "        data = data.to(device)\n",
    "        targets = targets.to(device)\n",
    "\n",
    "        # 前向预测\n",
    "        preds = model(data)\n",
    "        loss = criterion(preds,targets)\n",
    "\n",
    "        # 反向传播，优化权重\n",
    "        optimizer.zero_grad() # 把梯度置为0\n",
    "        loss.backward()\n",
    "        optimizer.step()\n",
    "\n",
    "    with torch.no_grad():\n",
    "        for x,y in  test_loder:\n",
    "            x = x.to(device)\n",
    "            y = y.to(device)\n",
    "            preds = model(x)\n",
    "            predictions = preds.max(1).indices\n",
    "            num_correct += (predictions==y).sum()\n",
    "            num_samples += predictions.size(0)\n",
    "            acc = (num_correct / num_samples).item()\n",
    "\n",
    "    model.train()\n",
    "    print((\"学生模型 Epoch:{}\\t Accuracy:{:4f}\").format(epoch+1,acc))"
   ]
  },
  {
   "cell_type": "markdown",
   "id": "f4083aef",
   "metadata": {},
   "source": [
    "### 保存训练3个epochs的权重 student_model_scratch = model"
   ]
  },
  {
   "cell_type": "code",
   "execution_count": 41,
   "id": "baaddfd3",
   "metadata": {},
   "outputs": [],
   "source": [
    "student_model_scratch = model # 保存训练3个epochs的学生模型网络结构和权重"
   ]
  },
  {
   "cell_type": "markdown",
   "id": "829e4c21",
   "metadata": {},
   "source": [
    "## 3 final: 知识蒸馏训练 预训练学生模型(0.90)"
   ]
  },
  {
   "cell_type": "code",
   "execution_count": 42,
   "id": "3745b9ee",
   "metadata": {
    "scrolled": true
   },
   "outputs": [
    {
     "data": {
      "text/plain": [
       "StudentModel(\n",
       "  (relu): ReLU()\n",
       "  (fc1): Linear(in_features=784, out_features=20, bias=True)\n",
       "  (fc2): Linear(in_features=20, out_features=20, bias=True)\n",
       "  (fc3): Linear(in_features=20, out_features=10, bias=True)\n",
       ")"
      ]
     },
     "execution_count": 42,
     "metadata": {},
     "output_type": "execute_result"
    }
   ],
   "source": [
    "# 准备好预训练好的教师模型\n",
    "teacher_model.eval()\n",
    "\n",
    "# 准备新的学生模型\n",
    "model = StudentModel()\n",
    "model.train()"
   ]
  },
  {
   "cell_type": "code",
   "execution_count": 43,
   "id": "f925204e",
   "metadata": {},
   "outputs": [],
   "source": [
    "# 蒸馏温度>>>>>>>>>>>>>>>>>>>>>>>>>>>>>>>>>>>..\n",
    "temp = 7\n",
    "\n",
    "# hard_loss\n",
    "hard_loss = nn.CrossEntropyLoss()\n",
    "# hard_loss权重\n",
    "alpha = 0.3\n",
    "\n",
    "# soft_loss\n",
    "soft_loss = nn.KLDivLoss(reduction=\"batchmean\")\n",
    "\n",
    "optimizer = torch.optim.Adam(model.parameters(),lr=1e-4)"
   ]
  },
  {
   "cell_type": "code",
   "execution_count": 46,
   "id": "811c8481",
   "metadata": {},
   "outputs": [
    {
     "name": "stderr",
     "output_type": "stream",
     "text": [
      "100%|██████████| 1875/1875 [00:03<00:00, 595.81it/s]\n"
     ]
    },
    {
     "name": "stdout",
     "output_type": "stream",
     "text": [
      "Epoch:1\t Accuracy:0.900100\n"
     ]
    },
    {
     "name": "stderr",
     "output_type": "stream",
     "text": [
      "100%|██████████| 1875/1875 [00:02<00:00, 718.44it/s]\n"
     ]
    },
    {
     "name": "stdout",
     "output_type": "stream",
     "text": [
      "Epoch:2\t Accuracy:0.900100\n"
     ]
    },
    {
     "name": "stderr",
     "output_type": "stream",
     "text": [
      "100%|██████████| 1875/1875 [00:02<00:00, 715.85it/s]\n"
     ]
    },
    {
     "name": "stdout",
     "output_type": "stream",
     "text": [
      "Epoch:3\t Accuracy:0.900100\n"
     ]
    }
   ],
   "source": [
    "epochs = 3\n",
    "for epoch in range(epochs):\n",
    "    for data,targets in tqdm(train_loder):\n",
    "        data = data.to(device)\n",
    "        targets = targets.to(device)\n",
    "        # 教师模型预测\n",
    "        with torch.no_grad():\n",
    "            teacher_preds = teacher_model(data) # 预训练好的教师模型\n",
    "\n",
    "        # 学生模型预测\n",
    "        student_preds = student_model_scratch(data) # 预训练好的学生模型\n",
    "\n",
    "        # loss1: hard_loss\n",
    "        student_loss = hard_loss(student_preds,targets)\n",
    "\n",
    "        # loss2: soft_loss\n",
    "        # 计算蒸馏后的预测结果及soft_loss\n",
    "        distillation_loss = soft_loss(\n",
    "            F.softmax(student_preds / temp, dim=1), # 蒸馏温度temp = 7\n",
    "            F.softmax(teacher_preds / temp, dim=1)\n",
    "        )\n",
    "\n",
    "        # 将 hard_loss 和 soft_loss 加权求和（两个loss都是用预训练的模型计算？？？）\n",
    "        loss = alpha * student_loss + (1-alpha) * distillation_loss # 0.900100????????????????\n",
    "        # loss = 1.0 * student_loss  # >>>>>>0.900100\n",
    "\n",
    "        # 反向传播,优化权重\n",
    "        optimizer.zero_grad()\n",
    "        loss.backward()\n",
    "        optimizer.step()\n",
    "\n",
    "    # 测试集上评估性能\n",
    "    model.eval()\n",
    "    num_correct = 0\n",
    "    num_samples = 0\n",
    "\n",
    "    with torch.no_grad():\n",
    "        for x,y in test_loder:\n",
    "            x = x.to(device)\n",
    "            y = y.to(device)\n",
    "            preds = student_model_scratch(x)\n",
    "            predictions = preds.max(1).indices\n",
    "            num_correct += (predictions == y).sum()\n",
    "            num_samples += predictions.size(0)\n",
    "        acc = (num_correct/num_samples).item()\n",
    "\n",
    "    model.train()\n",
    "    print((\"Epoch:{}\\t Accuracy:{:4f}\").format(epoch+1,acc))"
   ]
  },
  {
   "cell_type": "code",
   "execution_count": null,
   "id": "7e779fd7",
   "metadata": {},
   "outputs": [],
   "source": []
  }
 ],
 "metadata": {
  "kernelspec": {
   "display_name": "Python 3.8.13 ('pcdet')",
   "language": "python",
   "name": "python3"
  },
  "language_info": {
   "codemirror_mode": {
    "name": "ipython",
    "version": 3
   },
   "file_extension": ".py",
   "mimetype": "text/x-python",
   "name": "python",
   "nbconvert_exporter": "python",
   "pygments_lexer": "ipython3",
   "version": "3.8.13"
  },
  "vscode": {
   "interpreter": {
    "hash": "4a4bb52955cb4b7ba3167560f52fbe8257746766a280283c0daccbe36f0c9125"
   }
  }
 },
 "nbformat": 4,
 "nbformat_minor": 5
}
