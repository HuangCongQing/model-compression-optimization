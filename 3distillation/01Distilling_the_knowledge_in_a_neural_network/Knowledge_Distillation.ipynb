{
 "cells": [
  {
   "cell_type": "code",
   "execution_count": 3,
   "id": "b5bd7fe9",
   "metadata": {},
   "outputs": [],
   "source": [
    "import torch\n",
    "import numpy as np\n",
    "import pandas as pd\n",
    "from torch import nn\n",
    "import torch.nn.functional as F\n",
    "import torchvision\n",
    "from torchvision import transforms\n",
    "from torch.utils.data import DataLoader\n",
    "# from torchinfo import summary\n",
    "from tqdm import tqdm\n",
    "\n",
    "\n",
    "import matplotlib.pyplot as plt"
   ]
  },
  {
   "cell_type": "code",
   "execution_count": 4,
   "id": "b37f6118",
   "metadata": {},
   "outputs": [
    {
     "data": {
      "text/plain": [
       "<torch._C.Generator at 0x21ed766e350>"
      ]
     },
     "execution_count": 4,
     "metadata": {},
     "output_type": "execute_result"
    }
   ],
   "source": [
    "#设置随机种子\n",
    "\n",
    "torch.manual_seed(0)\n",
    "\n",
    "# device = torch.device(\"cuda\" if torch.cuda.is_available() else \"pcu\")"
   ]
  },
  {
   "cell_type": "code",
   "execution_count": 5,
   "id": "f7a1ec11",
   "metadata": {},
   "outputs": [],
   "source": [
    "# 使用cuDNN加速卷积运算\n",
    "torch.backends.cudnn.benchmark=True"
   ]
  },
  {
   "cell_type": "code",
   "execution_count": 6,
   "id": "025a8edb",
   "metadata": {},
   "outputs": [],
   "source": [
    "# 载入MNIST数据集\n",
    "# 载入训练集\n",
    "train_dataset = torchvision.datasets.MNIST(\n",
    "    root=\"dataset/\",\n",
    "    train=True,\n",
    "    transform=transforms.ToTensor(),\n",
    "    download=True\n",
    ")\n",
    "# 载入测试集\n",
    "test_dataset = torchvision.datasets.MNIST(\n",
    "    root=\"dataset/\",\n",
    "    train=False,\n",
    "    transform=transforms.ToTensor(),\n",
    "    download=True\n",
    ")\n",
    "train_loder = DataLoader(dataset=train_dataset,batch_size=32,shuffle=True)\n",
    "test_loder  = DataLoader(dataset=test_dataset, batch_size=32,shuffle=False)"
   ]
  },
  {
   "cell_type": "code",
   "execution_count": 7,
   "id": "ce1fdd7c",
   "metadata": {},
   "outputs": [],
   "source": [
    "# 教师模型\n",
    "class TeacherModel(nn.Module):\n",
    "    def __init__(self,in_channels=1,num_classes=10):\n",
    "        super(TeacherModel, self).__init__()\n",
    "        self.relu = nn.ReLU()\n",
    "        self.fc1 = nn.Linear(784,1200)\n",
    "        self.fc2 = nn.Linear(1200,1200)\n",
    "        self.fc3 = nn.Linear(1200,num_classes)\n",
    "        self.dropout = nn.Dropout(p = 0.5)\n",
    "\n",
    "    def forward(self,x):\n",
    "        x = x.view(-1,784)\n",
    "        x = self.fc1(x)\n",
    "        x = self.dropout(x)\n",
    "        x = self.relu(x)\n",
    "\n",
    "        x = self.fc2(x)\n",
    "        x = self.dropout(x)\n",
    "        x = self.relu(x)\n",
    "\n",
    "        x = self.fc3(x)\n",
    "\n",
    "        return x"
   ]
  },
  {
   "cell_type": "code",
   "execution_count": 8,
   "id": "38851025",
   "metadata": {},
   "outputs": [],
   "source": [
    "model = TeacherModel()"
   ]
  },
  {
   "cell_type": "code",
   "execution_count": 11,
   "id": "ba9791ab",
   "metadata": {},
   "outputs": [
    {
     "name": "stderr",
     "output_type": "stream",
     "text": [
      "100%|█████████████████████████████████████████████████████████████████████████████| 1875/1875 [00:14<00:00, 127.94it/s]\n"
     ]
    },
    {
     "name": "stdout",
     "output_type": "stream",
     "text": [
      "Epoch:1\t Accuracy:0.906300\n"
     ]
    }
   ],
   "source": [
    "criterion = nn.CrossEntropyLoss() # 设置使用交叉熵损失函数\n",
    "optimizer = torch.optim.Adam(model.parameters(),lr=1e-4) # 使用Adam优化器，学习率为lr=1e-4\n",
    "\n",
    "epochs = 1 # 训练6轮\n",
    "for epoch in range(epochs):\n",
    "    model.train()\n",
    "\n",
    "    for data,targets in tqdm(train_loder):\n",
    "        # 前向预测\n",
    "        preds = model(data)\n",
    "        loss = criterion(preds,targets)\n",
    "\n",
    "        # 反向传播，优化权重\n",
    "        optimizer.zero_grad()\n",
    "        loss.backward()\n",
    "        optimizer.step()\n",
    "\n",
    "    # 测试集上评估性能\n",
    "    model.eval()\n",
    "    num_correct = 0\n",
    "    num_samples = 0\n",
    "\n",
    "    with torch.no_grad():\n",
    "        for x,y in test_loder:\n",
    "            preds = model(x)\n",
    "            predictions = preds.max(1).indices\n",
    "            num_correct += (predictions == y).sum()\n",
    "            num_samples += predictions.size(0)\n",
    "        acc = (num_correct / num_samples).item()\n",
    "    \n",
    "    model.train()\n",
    "    teacher_model = model\n",
    "    print((\"Epoch:{}\\t Accuracy:{:4f}\").format(epoch+1,acc))"
   ]
  },
  {
   "cell_type": "code",
   "execution_count": 18,
   "id": "4c5e5e1e",
   "metadata": {
    "scrolled": false
   },
   "outputs": [
    {
     "name": "stderr",
     "output_type": "stream",
     "text": [
      "100%|█████████████████████████████████████████████████████████████████████████████| 1875/1875 [00:10<00:00, 171.88it/s]\n"
     ]
    },
    {
     "name": "stdout",
     "output_type": "stream",
     "text": [
      "Epoch:1\t Accuracy:0.879980\n"
     ]
    },
    {
     "name": "stderr",
     "output_type": "stream",
     "text": [
      "100%|█████████████████████████████████████████████████████████████████████████████| 1875/1875 [00:10<00:00, 182.26it/s]\n"
     ]
    },
    {
     "name": "stdout",
     "output_type": "stream",
     "text": [
      "Epoch:2\t Accuracy:0.881233\n"
     ]
    },
    {
     "name": "stderr",
     "output_type": "stream",
     "text": [
      "100%|█████████████████████████████████████████████████████████████████████████████| 1875/1875 [00:09<00:00, 188.08it/s]\n"
     ]
    },
    {
     "name": "stdout",
     "output_type": "stream",
     "text": [
      "Epoch:3\t Accuracy:0.884443\n"
     ]
    }
   ],
   "source": [
    "# 学生模型\n",
    "class StudentModel(nn.Module):\n",
    "    def __init__( self,inchannels=1,num_class=10):\n",
    "        super(StudentModel, self).__init__()\n",
    "        self.relu = nn.ReLU()\n",
    "        self.fc1 = nn.Linear(784, 20)\n",
    "        self.fc2 = nn.Linear(20, 20)\n",
    "        self.fc3 = nn.Linear(20, num_class)\n",
    "        #self.dropout = nn.Dropout(p = 0.5)\n",
    "\n",
    "    def forward(self,x):\n",
    "        x = x.view(-1, 784)\n",
    "        x = self.fc1(x)\n",
    "        #x = self.dropout(x)\n",
    "        x = self.relu(x)\n",
    "\n",
    "        x = self.fc2(x)\n",
    "        #x = self.dropout(x)\n",
    "        x = self.relu(x)\n",
    "        \n",
    "        x = self.fc3(x)\n",
    "\n",
    "        return x\n",
    "\n",
    "model = StudentModel() # 从头先训练一下学生模型\n",
    "# 设置交叉损失函数 和 激活函数\n",
    "criterion = nn.CrossEntropyLoss()\n",
    "optimizer = torch.optim.Adam(model.parameters(),lr=1e-4)\n",
    "epochs = 3\n",
    "# 训练集上训练权重\n",
    "for epoch in range(epochs):\n",
    "    model.train()\n",
    "\n",
    "    for data,targets in tqdm(train_loder):\n",
    "        # 前向预测\n",
    "        preds = model(data)\n",
    "        loss = criterion(preds,targets)\n",
    "\n",
    "        # 反向传播，优化权重\n",
    "        optimizer.zero_grad() # 把梯度置为0\n",
    "        loss.backward()\n",
    "        optimizer.step()\n",
    "\n",
    "    with torch.no_grad():\n",
    "        for x,y in  test_loder:\n",
    "            preds = model(x)\n",
    "            predictions = preds.max(1).indices\n",
    "            num_correct += (predictions==y).sum()\n",
    "            num_samples += predictions.size(0)\n",
    "            acc = (num_correct / num_samples).item()\n",
    "\n",
    "    model.train()\n",
    "    print((\"Epoch:{}\\t Accuracy:{:4f}\").format(epoch+1,acc))"
   ]
  },
  {
   "cell_type": "code",
   "execution_count": 19,
   "id": "baaddfd3",
   "metadata": {},
   "outputs": [],
   "source": [
    "student_model_scratch = model"
   ]
  },
  {
   "cell_type": "code",
   "execution_count": null,
   "id": "c3cfdf1b",
   "metadata": {},
   "outputs": [],
   "source": []
  },
  {
   "cell_type": "code",
   "execution_count": 20,
   "id": "3745b9ee",
   "metadata": {
    "scrolled": true
   },
   "outputs": [
    {
     "data": {
      "text/plain": [
       "StudentModel(\n",
       "  (relu): ReLU()\n",
       "  (fc1): Linear(in_features=784, out_features=20, bias=True)\n",
       "  (fc2): Linear(in_features=20, out_features=20, bias=True)\n",
       "  (fc3): Linear(in_features=20, out_features=10, bias=True)\n",
       ")"
      ]
     },
     "execution_count": 20,
     "metadata": {},
     "output_type": "execute_result"
    }
   ],
   "source": [
    "# 准备好预训练好的教师模型\n",
    "teacher_model.eval()\n",
    "\n",
    "# 准备新的学生模型\n",
    "model = StudentModel()\n",
    "model.train()"
   ]
  },
  {
   "cell_type": "code",
   "execution_count": 21,
   "id": "f925204e",
   "metadata": {},
   "outputs": [],
   "source": [
    "# 蒸馏温度\n",
    "temp = 7\n",
    "\n",
    "# hard_loss\n",
    "hard_loss = nn.CrossEntropyLoss()\n",
    "# hard_loss权重\n",
    "alpha = 0.3\n",
    "\n",
    "# soft_loss\n",
    "soft_loss = nn.KLDivLoss(reduction=\"batchmean\")\n",
    "\n",
    "optimizer = torch.optim.Adam(model.parameters(),lr=1e-4)\n"
   ]
  },
  {
   "cell_type": "code",
   "execution_count": 16,
   "id": "811c8481",
   "metadata": {},
   "outputs": [
    {
     "name": "stderr",
     "output_type": "stream",
     "text": [
      "100%|█████████████████████████████████████████████████████████████████████████████| 1875/1875 [00:10<00:00, 176.48it/s]\n"
     ]
    },
    {
     "name": "stdout",
     "output_type": "stream",
     "text": [
      "Epoch:1\t Accuracy:0.899300\n"
     ]
    },
    {
     "name": "stderr",
     "output_type": "stream",
     "text": [
      "100%|█████████████████████████████████████████████████████████████████████████████| 1875/1875 [00:10<00:00, 180.12it/s]\n"
     ]
    },
    {
     "name": "stdout",
     "output_type": "stream",
     "text": [
      "Epoch:2\t Accuracy:0.899300\n"
     ]
    },
    {
     "name": "stderr",
     "output_type": "stream",
     "text": [
      "100%|█████████████████████████████████████████████████████████████████████████████| 1875/1875 [00:09<00:00, 195.39it/s]\n"
     ]
    },
    {
     "name": "stdout",
     "output_type": "stream",
     "text": [
      "Epoch:3\t Accuracy:0.899300\n"
     ]
    }
   ],
   "source": [
    "epochs = 3\n",
    "for epoch in range(epochs):\n",
    "    for data,targets in tqdm(train_loder):\n",
    "        # 教师模型预测\n",
    "        with torch.no_grad():\n",
    "            teacher_preds = teacher_model(data)\n",
    "\n",
    "        # 学生模型预测\n",
    "        student_preds = student_model_scratch(data)\n",
    "\n",
    "        student_loss = hard_loss(student_preds,targets)\n",
    "\n",
    "        # 计算蒸馏后的预测结果及soft_loss\n",
    "        distillation_loss = soft_loss(\n",
    "            F.softmax(student_preds/temp, dim=1),\n",
    "            F.softmax(teacher_preds/temp, dim=1)\n",
    "        )\n",
    "\n",
    "        # 将 hard_loss 和 soft_loss 加权求和\n",
    "        loss = alpha * student_loss + (1-alpha) * distillation_loss\n",
    "\n",
    "        # 反向传播,优化权重\n",
    "        optimizer.zero_grad()\n",
    "        loss.backward()\n",
    "        optimizer.step()\n",
    "\n",
    "    # 测试集上评估性能\n",
    "    model.eval()\n",
    "    num_correct = 0\n",
    "    num_samples = 0\n",
    "\n",
    "    with torch.no_grad():\n",
    "        for x,y in test_loder:\n",
    "            preds = student_model_scratch(x)\n",
    "            predictions = preds.max(1).indices\n",
    "            num_correct += (predictions == y).sum()\n",
    "            num_samples += predictions.size(0)\n",
    "        acc = (num_correct/num_samples).item()\n",
    "\n",
    "    model.train()\n",
    "    print((\"Epoch:{}\\t Accuracy:{:4f}\").format(epoch+1,acc))"
   ]
  },
  {
   "cell_type": "code",
   "execution_count": null,
   "id": "7e779fd7",
   "metadata": {},
   "outputs": [],
   "source": []
  }
 ],
 "metadata": {
  "kernelspec": {
   "display_name": "Python 3 (ipykernel)",
   "language": "python",
   "name": "python3"
  },
  "language_info": {
   "codemirror_mode": {
    "name": "ipython",
    "version": 3
   },
   "file_extension": ".py",
   "mimetype": "text/x-python",
   "name": "python",
   "nbconvert_exporter": "python",
   "pygments_lexer": "ipython3",
   "version": "3.9.7"
  }
 },
 "nbformat": 4,
 "nbformat_minor": 5
}
